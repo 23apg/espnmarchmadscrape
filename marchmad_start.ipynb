{
 "cells": [
  {
   "cell_type": "code",
   "execution_count": 15,
   "metadata": {},
   "outputs": [],
   "source": [
    "import pandas as pd"
   ]
  },
  {
   "cell_type": "code",
   "execution_count": 16,
   "metadata": {},
   "outputs": [],
   "source": [
    "mmad = pd.read_excel('./resources/marchmad.xlsx')"
   ]
  },
  {
   "cell_type": "code",
   "execution_count": 17,
   "metadata": {},
   "outputs": [
    {
     "data": {
      "text/html": [
       "<div>\n",
       "<style scoped>\n",
       "    .dataframe tbody tr th:only-of-type {\n",
       "        vertical-align: middle;\n",
       "    }\n",
       "\n",
       "    .dataframe tbody tr th {\n",
       "        vertical-align: top;\n",
       "    }\n",
       "\n",
       "    .dataframe thead th {\n",
       "        text-align: right;\n",
       "    }\n",
       "</style>\n",
       "<table border=\"1\" class=\"dataframe\">\n",
       "  <thead>\n",
       "    <tr style=\"text-align: right;\">\n",
       "      <th></th>\n",
       "      <th>8</th>\n",
       "      <th>2</th>\n",
       "      <th>3</th>\n",
       "      <th>1</th>\n",
       "      <th>9</th>\n",
       "      <th>0</th>\n",
       "      <th>7</th>\n",
       "      <th>5</th>\n",
       "      <th>4</th>\n",
       "      <th>6</th>\n",
       "    </tr>\n",
       "  </thead>\n",
       "  <tbody>\n",
       "    <tr>\n",
       "      <th>4</th>\n",
       "      <td>Wayne</td>\n",
       "      <td>Justin Grohnke</td>\n",
       "      <td>Big Sausage</td>\n",
       "      <td>Sweat Melons</td>\n",
       "      <td>Big Cheese</td>\n",
       "      <td>Big Cheese</td>\n",
       "      <td>Joe Eagles</td>\n",
       "      <td>DeCarlo Family</td>\n",
       "      <td>Sal &amp; Lizzy</td>\n",
       "      <td>42</td>\n",
       "    </tr>\n",
       "    <tr>\n",
       "      <th>2</th>\n",
       "      <td>Seibert #11</td>\n",
       "      <td>GRAT</td>\n",
       "      <td>AZ Boyz</td>\n",
       "      <td>K. Becker</td>\n",
       "      <td>42</td>\n",
       "      <td>Jim O'C</td>\n",
       "      <td>Pag Boyz</td>\n",
       "      <td>Mic M</td>\n",
       "      <td>Al Jones</td>\n",
       "      <td>Scott Boyens</td>\n",
       "    </tr>\n",
       "    <tr>\n",
       "      <th>7</th>\n",
       "      <td>SMO</td>\n",
       "      <td>Baby Boyz</td>\n",
       "      <td>42</td>\n",
       "      <td>Mike &amp; Mike</td>\n",
       "      <td>Mike O</td>\n",
       "      <td>Joe S</td>\n",
       "      <td>GRAT</td>\n",
       "      <td>Mom 7</td>\n",
       "      <td>Jeff M</td>\n",
       "      <td>Marissa's Dad</td>\n",
       "    </tr>\n",
       "    <tr>\n",
       "      <th>3</th>\n",
       "      <td>E.S.</td>\n",
       "      <td>Fire Fly</td>\n",
       "      <td>Browny</td>\n",
       "      <td>FURM 2</td>\n",
       "      <td>Peter M. Garetto</td>\n",
       "      <td>Buck 1</td>\n",
       "      <td>Z</td>\n",
       "      <td>Dave and TT</td>\n",
       "      <td>Juan Alcala</td>\n",
       "      <td>Rodney L. (Al Jones)</td>\n",
       "    </tr>\n",
       "    <tr>\n",
       "      <th>9</th>\n",
       "      <td>FURM 1</td>\n",
       "      <td>Pat M</td>\n",
       "      <td>SMO #2</td>\n",
       "      <td>Ochoa</td>\n",
       "      <td>Brad &amp; Priscilla</td>\n",
       "      <td>BI Erin</td>\n",
       "      <td>AL Jones</td>\n",
       "      <td>Julie Smevoll</td>\n",
       "      <td>Amanda C</td>\n",
       "      <td>Gonzo</td>\n",
       "    </tr>\n",
       "    <tr>\n",
       "      <th>8</th>\n",
       "      <td>Sharon OF</td>\n",
       "      <td>EJVB</td>\n",
       "      <td>Joe S</td>\n",
       "      <td>Allan (Grohnke)</td>\n",
       "      <td>AZ Boyz</td>\n",
       "      <td>Peter Blue</td>\n",
       "      <td>Anthony G</td>\n",
       "      <td>Saint</td>\n",
       "      <td>E.S.</td>\n",
       "      <td>Carlos Gutierrez</td>\n",
       "    </tr>\n",
       "    <tr>\n",
       "      <th>0</th>\n",
       "      <td>EL Chapo</td>\n",
       "      <td>Z</td>\n",
       "      <td>Jim O'C</td>\n",
       "      <td>Kim and John</td>\n",
       "      <td>GRAT</td>\n",
       "      <td>Eric C</td>\n",
       "      <td>42</td>\n",
       "      <td>FURM 3</td>\n",
       "      <td>Pat M</td>\n",
       "      <td>DeCarlo Family</td>\n",
       "    </tr>\n",
       "    <tr>\n",
       "      <th>1</th>\n",
       "      <td>Scott Boyens</td>\n",
       "      <td>Gonzo</td>\n",
       "      <td>Heslop</td>\n",
       "      <td>Ronnie G</td>\n",
       "      <td>Gina Beggars</td>\n",
       "      <td>PE3</td>\n",
       "      <td>AL Jones</td>\n",
       "      <td>GRAT</td>\n",
       "      <td>Pag Boyz</td>\n",
       "      <td>Orozco</td>\n",
       "    </tr>\n",
       "    <tr>\n",
       "      <th>6</th>\n",
       "      <td>BJ 1</td>\n",
       "      <td>Peter Blue</td>\n",
       "      <td>Jeff M</td>\n",
       "      <td>Al Jones</td>\n",
       "      <td>BI Erin</td>\n",
       "      <td>Heslop</td>\n",
       "      <td>Jeff M</td>\n",
       "      <td>Angelo G</td>\n",
       "      <td>AZ Boyz</td>\n",
       "      <td>Buck 2</td>\n",
       "    </tr>\n",
       "    <tr>\n",
       "      <th>5</th>\n",
       "      <td>Tom Tucker</td>\n",
       "      <td>RJ (Grohnke)</td>\n",
       "      <td>Victor C</td>\n",
       "      <td>Jonathan</td>\n",
       "      <td>Ray &amp; Di</td>\n",
       "      <td>BJ 2</td>\n",
       "      <td>Angelo G</td>\n",
       "      <td>Cantelo</td>\n",
       "      <td>Labo</td>\n",
       "      <td>Whitey &amp; Mary</td>\n",
       "    </tr>\n",
       "  </tbody>\n",
       "</table>\n",
       "</div>"
      ],
      "text/plain": [
       "              8               2            3                1  \\\n",
       "4         Wayne  Justin Grohnke  Big Sausage     Sweat Melons   \n",
       "2   Seibert #11            GRAT      AZ Boyz        K. Becker   \n",
       "7           SMO       Baby Boyz           42      Mike & Mike   \n",
       "3          E.S.        Fire Fly       Browny           FURM 2   \n",
       "9        FURM 1           Pat M       SMO #2            Ochoa   \n",
       "8     Sharon OF            EJVB        Joe S  Allan (Grohnke)   \n",
       "0      EL Chapo               Z      Jim O'C     Kim and John   \n",
       "1  Scott Boyens           Gonzo       Heslop         Ronnie G   \n",
       "6          BJ 1      Peter Blue       Jeff M         Al Jones   \n",
       "5    Tom Tucker    RJ (Grohnke)     Victor C         Jonathan   \n",
       "\n",
       "                  9           0           7               5            4  \\\n",
       "4        Big Cheese  Big Cheese  Joe Eagles  DeCarlo Family  Sal & Lizzy   \n",
       "2                42     Jim O'C    Pag Boyz           Mic M     Al Jones   \n",
       "7            Mike O       Joe S        GRAT           Mom 7       Jeff M   \n",
       "3  Peter M. Garetto      Buck 1           Z     Dave and TT  Juan Alcala   \n",
       "9  Brad & Priscilla     BI Erin    AL Jones   Julie Smevoll     Amanda C   \n",
       "8           AZ Boyz  Peter Blue   Anthony G           Saint         E.S.   \n",
       "0              GRAT      Eric C          42          FURM 3        Pat M   \n",
       "1      Gina Beggars         PE3    AL Jones           GRAT      Pag Boyz   \n",
       "6           BI Erin      Heslop      Jeff M        Angelo G      AZ Boyz   \n",
       "5          Ray & Di        BJ 2    Angelo G         Cantelo         Labo   \n",
       "\n",
       "                      6  \n",
       "4                    42  \n",
       "2          Scott Boyens  \n",
       "7         Marissa's Dad  \n",
       "3  Rodney L. (Al Jones)  \n",
       "9                 Gonzo  \n",
       "8      Carlos Gutierrez  \n",
       "0        DeCarlo Family  \n",
       "1                Orozco  \n",
       "6                Buck 2  \n",
       "5         Whitey & Mary  "
      ]
     },
     "execution_count": 17,
     "metadata": {},
     "output_type": "execute_result"
    }
   ],
   "source": [
    "mmad"
   ]
  },
  {
   "cell_type": "code",
   "execution_count": 11,
   "metadata": {},
   "outputs": [
    {
     "data": {
      "text/plain": [
       "Int64Index([8, 2, 3, 1, 9, 0, 7, 5, 4, 6], dtype='int64')"
      ]
     },
     "execution_count": 11,
     "metadata": {},
     "output_type": "execute_result"
    }
   ],
   "source": [
    "mmad.columns"
   ]
  },
  {
   "cell_type": "code",
   "execution_count": 12,
   "metadata": {},
   "outputs": [
    {
     "data": {
      "text/plain": [
       "Int64Index([4, 2, 7, 3, 9, 8, 0, 1, 6, 5], dtype='int64')"
      ]
     },
     "execution_count": 12,
     "metadata": {},
     "output_type": "execute_result"
    }
   ],
   "source": [
    "mmad.index"
   ]
  },
  {
   "cell_type": "code",
   "execution_count": 14,
   "metadata": {},
   "outputs": [
    {
     "data": {
      "text/plain": [
       "'Peter Blue'"
      ]
     },
     "execution_count": 14,
     "metadata": {},
     "output_type": "execute_result"
    }
   ],
   "source": [
    "mmad.at[8,0]"
   ]
  },
  {
   "cell_type": "code",
   "execution_count": null,
   "metadata": {},
   "outputs": [],
   "source": []
  }
 ],
 "metadata": {
  "kernelspec": {
   "display_name": "Python 3",
   "language": "python",
   "name": "python3"
  },
  "language_info": {
   "codemirror_mode": {
    "name": "ipython",
    "version": 3
   },
   "file_extension": ".py",
   "mimetype": "text/x-python",
   "name": "python",
   "nbconvert_exporter": "python",
   "pygments_lexer": "ipython3",
   "version": "3.7.1"
  }
 },
 "nbformat": 4,
 "nbformat_minor": 2
}
